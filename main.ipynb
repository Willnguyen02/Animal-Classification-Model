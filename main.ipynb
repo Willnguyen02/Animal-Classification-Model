{
 "cells": [
  {
   "cell_type": "code",
   "execution_count": null,
   "metadata": {},
   "outputs": [
    {
     "name": "stdout",
     "output_type": "stream",
     "text": [
      "Path to dataset files: C:\\Users\\reala\\.cache\\kagglehub\\datasets\\subratasarkar32\\low-light-animals\\versions\\2\n"
     ]
    }
   ],
   "source": [
    "import pandas as pd\n",
    "import numpy as np\n",
    "import kagglehub\n",
    "from PIL import Image\n",
    "import os\n",
    "import glob\n",
    "import warnings\n",
    "warnings.filterwarnings(\"ignore\")\n",
    "\n",
    "path = kagglehub.dataset_download(\"subratasarkar32/low-light-animals\")\n",
    "print(\"Path to dataset files:\", path)"
   ]
  },
  {
   "cell_type": "markdown",
   "metadata": {},
   "source": [
    "## Data Preprocessing"
   ]
  },
  {
   "cell_type": "code",
   "execution_count": null,
   "metadata": {},
   "outputs": [
    {
     "data": {
      "text/html": [
       "<div>\n",
       "<style scoped>\n",
       "    .dataframe tbody tr th:only-of-type {\n",
       "        vertical-align: middle;\n",
       "    }\n",
       "\n",
       "    .dataframe tbody tr th {\n",
       "        vertical-align: top;\n",
       "    }\n",
       "\n",
       "    .dataframe thead th {\n",
       "        text-align: right;\n",
       "    }\n",
       "</style>\n",
       "<table border=\"1\" class=\"dataframe\">\n",
       "  <thead>\n",
       "    <tr style=\"text-align: right;\">\n",
       "      <th></th>\n",
       "      <th>Animals</th>\n",
       "    </tr>\n",
       "  </thead>\n",
       "  <tbody>\n",
       "    <tr>\n",
       "      <th>0</th>\n",
       "      <td>antelope</td>\n",
       "    </tr>\n",
       "    <tr>\n",
       "      <th>1</th>\n",
       "      <td>badger</td>\n",
       "    </tr>\n",
       "    <tr>\n",
       "      <th>2</th>\n",
       "      <td>bat</td>\n",
       "    </tr>\n",
       "    <tr>\n",
       "      <th>3</th>\n",
       "      <td>bear</td>\n",
       "    </tr>\n",
       "    <tr>\n",
       "      <th>4</th>\n",
       "      <td>bee</td>\n",
       "    </tr>\n",
       "    <tr>\n",
       "      <th>...</th>\n",
       "      <td>...</td>\n",
       "    </tr>\n",
       "    <tr>\n",
       "      <th>85</th>\n",
       "      <td>whale</td>\n",
       "    </tr>\n",
       "    <tr>\n",
       "      <th>86</th>\n",
       "      <td>wolf</td>\n",
       "    </tr>\n",
       "    <tr>\n",
       "      <th>87</th>\n",
       "      <td>wombat</td>\n",
       "    </tr>\n",
       "    <tr>\n",
       "      <th>88</th>\n",
       "      <td>woodpecker</td>\n",
       "    </tr>\n",
       "    <tr>\n",
       "      <th>89</th>\n",
       "      <td>zebra</td>\n",
       "    </tr>\n",
       "  </tbody>\n",
       "</table>\n",
       "<p>90 rows × 1 columns</p>\n",
       "</div>"
      ],
      "text/plain": [
       "       Animals\n",
       "0     antelope\n",
       "1       badger\n",
       "2          bat\n",
       "3         bear\n",
       "4          bee\n",
       "..         ...\n",
       "85       whale\n",
       "86        wolf\n",
       "87      wombat\n",
       "88  woodpecker\n",
       "89       zebra\n",
       "\n",
       "[90 rows x 1 columns]"
      ]
     },
     "execution_count": 80,
     "metadata": {},
     "output_type": "execute_result"
    }
   ],
   "source": [
    "# obtain animal labels\n",
    "\n",
    "animal_path = os.path.join(path,'name of the animals.txt')\n",
    "labels = pd.read_csv(animal_path, header=None, names=[\"Animals\"])\n",
    "labels"
   ]
  },
  {
   "cell_type": "code",
   "execution_count": 108,
   "metadata": {},
   "outputs": [],
   "source": [
    "# Created a function that extracts all animal images from kaggle \n",
    "# All images are then stored in a dictionary\n",
    "\n",
    "animal_images_dict = {}\n",
    "\n",
    "def extract_img(animal_name):\n",
    "\n",
    "    base_path = os.path.join(path, 'animals_low_light', 'animals_low_light', animal_name)\n",
    "\n",
    "    image_files = glob.glob(os.path.join(base_path, '*.jpg')) \n",
    "\n",
    "    animal_images_dict[animal_name] = []\n",
    "\n",
    "    for img in image_files:\n",
    "        opened_img = Image.open(img)\n",
    "        animal_images_dict[animal_name].append(opened_img)"
   ]
  },
  {
   "cell_type": "code",
   "execution_count": 127,
   "metadata": {},
   "outputs": [],
   "source": [
    "# extract animal images\n",
    "\n",
    "for animal in labels[\"Animals\"]:\n",
    "    extract_img(animal)"
   ]
  },
  {
   "cell_type": "code",
   "execution_count": null,
   "metadata": {},
   "outputs": [],
   "source": [
    "# extracted rgb values from the image\n",
    "# each vector represents the intensity of red, green, and blue colors (out of 255)\n",
    "\n",
    "rgb_values = np.array(img)\n",
    "rgb_values[0] # only return the first row of pixel rgb values"
   ]
  },
  {
   "cell_type": "markdown",
   "metadata": {},
   "source": [
    "# Testing"
   ]
  },
  {
   "cell_type": "code",
   "execution_count": 16,
   "metadata": {},
   "outputs": [
    {
     "name": "stdout",
     "output_type": "stream",
     "text": [
      "Image Format: JPEG\n",
      "Image Size: (1640, 1025)\n",
      "Image Mode: RGB\n"
     ]
    }
   ],
   "source": [
    "from PIL import Image\n",
    "\n",
    "img = Image.open(antelope)\n",
    "\n",
    "img.show()\n",
    "print(f\"Image Format: {img.format}\")\n",
    "print(f\"Image Size: {img.size}\")\n",
    "print(f\"Image Mode: {img.mode}\")"
   ]
  },
  {
   "cell_type": "code",
   "execution_count": null,
   "metadata": {},
   "outputs": [
    {
     "data": {
      "text/plain": [
       "array([[ 89,  92,  37],\n",
       "       [122, 123,  81],\n",
       "       [ 99,  92,  82],\n",
       "       ...,\n",
       "       [101, 100,  10],\n",
       "       [102, 107,  17],\n",
       "       [119, 132,  42]], dtype=uint8)"
      ]
     },
     "execution_count": 35,
     "metadata": {},
     "output_type": "execute_result"
    }
   ],
   "source": [
    "# extracted rgb values from the image\n",
    "# each vector represents the intensity of red, green, and blue colors (out of 255)\n",
    "\n",
    "rgb_values = np.array(img)\n",
    "rgb_values[0] # only return the first row of pixel rgb values"
   ]
  },
  {
   "cell_type": "code",
   "execution_count": 37,
   "metadata": {},
   "outputs": [
    {
     "data": {
      "text/plain": [
       "(1025, 1640, 3)"
      ]
     },
     "execution_count": 37,
     "metadata": {},
     "output_type": "execute_result"
    }
   ],
   "source": [
    "rgb_values.shape"
   ]
  },
  {
   "cell_type": "code",
   "execution_count": null,
   "metadata": {},
   "outputs": [],
   "source": [
    "# We need to standardize out image shape.\n",
    "# Images are of various sizes and shapes"
   ]
  },
  {
   "cell_type": "code",
   "execution_count": null,
   "metadata": {},
   "outputs": [],
   "source": [
    "# we don't have a validation dataset\n",
    "# option: split training dataset multiple times\n",
    "\n",
    "# Step 1: Split data into training and test sets (if you have a test set)\n",
    "X_train, X_test, y_train, y_test = train_test_split(X, y, test_size=0.2, random_state=42)\n",
    "\n",
    "# Step 2: Split training data further into training and validation sets\n",
    "X_train, X_val, y_train, y_val = train_test_split(X_train, y_train, test_size=0.2, random_state=42)\n",
    "\n",
    "# Step 3: Train the model on the training data\n",
    "model.fit(X_train, y_train)\n",
    "\n",
    "# Step 4: Validate the model on the validation data\n",
    "validation_accuracy = model.score(X_val, y_val)\n",
    "print(f\"Validation Accuracy: {validation_accuracy}\")\n",
    "\n",
    "# Step 5: Optionally, evaluate the model on the test data\n",
    "test_accuracy = model.score(X_test, y_test)\n",
    "print(f\"Test Accuracy: {test_accuracy}\")\n"
   ]
  }
 ],
 "metadata": {
  "kernelspec": {
   "display_name": "base",
   "language": "python",
   "name": "python3"
  },
  "language_info": {
   "codemirror_mode": {
    "name": "ipython",
    "version": 3
   },
   "file_extension": ".py",
   "mimetype": "text/x-python",
   "name": "python",
   "nbconvert_exporter": "python",
   "pygments_lexer": "ipython3",
   "version": "3.12.4"
  }
 },
 "nbformat": 4,
 "nbformat_minor": 2
}
